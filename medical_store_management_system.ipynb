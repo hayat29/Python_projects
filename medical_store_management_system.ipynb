{
  "nbformat": 4,
  "nbformat_minor": 0,
  "metadata": {
    "colab": {
      "provenance": []
    },
    "kernelspec": {
      "name": "python3",
      "display_name": "Python 3"
    },
    "language_info": {
      "name": "python"
    }
  },
  "cells": [
    {
      "cell_type": "code",
      "execution_count": 23,
      "metadata": {
        "colab": {
          "base_uri": "https://localhost:8080/"
        },
        "id": "1OQLEefe8nv_",
        "outputId": "b254ad0c-d92d-44d2-8702-51e60e73d1f3"
      },
      "outputs": [
        {
          "output_type": "stream",
          "name": "stdout",
          "text": [
            "Requirement already satisfied: Flask in /usr/local/lib/python3.11/dist-packages (3.1.0)\n",
            "Requirement already satisfied: Flask-SQLAlchemy in /usr/local/lib/python3.11/dist-packages (3.1.1)\n",
            "Requirement already satisfied: Flask-SocketIO in /usr/local/lib/python3.11/dist-packages (5.5.1)\n",
            "Requirement already satisfied: Werkzeug>=3.1 in /usr/local/lib/python3.11/dist-packages (from Flask) (3.1.3)\n",
            "Requirement already satisfied: Jinja2>=3.1.2 in /usr/local/lib/python3.11/dist-packages (from Flask) (3.1.5)\n",
            "Requirement already satisfied: itsdangerous>=2.2 in /usr/local/lib/python3.11/dist-packages (from Flask) (2.2.0)\n",
            "Requirement already satisfied: click>=8.1.3 in /usr/local/lib/python3.11/dist-packages (from Flask) (8.1.8)\n",
            "Requirement already satisfied: blinker>=1.9 in /usr/local/lib/python3.11/dist-packages (from Flask) (1.9.0)\n",
            "Requirement already satisfied: sqlalchemy>=2.0.16 in /usr/local/lib/python3.11/dist-packages (from Flask-SQLAlchemy) (2.0.37)\n",
            "Requirement already satisfied: python-socketio>=5.12.0 in /usr/local/lib/python3.11/dist-packages (from Flask-SocketIO) (5.12.1)\n",
            "Requirement already satisfied: MarkupSafe>=2.0 in /usr/local/lib/python3.11/dist-packages (from Jinja2>=3.1.2->Flask) (3.0.2)\n",
            "Requirement already satisfied: bidict>=0.21.0 in /usr/local/lib/python3.11/dist-packages (from python-socketio>=5.12.0->Flask-SocketIO) (0.23.1)\n",
            "Requirement already satisfied: python-engineio>=4.11.0 in /usr/local/lib/python3.11/dist-packages (from python-socketio>=5.12.0->Flask-SocketIO) (4.11.2)\n",
            "Requirement already satisfied: greenlet!=0.4.17 in /usr/local/lib/python3.11/dist-packages (from sqlalchemy>=2.0.16->Flask-SQLAlchemy) (3.1.1)\n",
            "Requirement already satisfied: typing-extensions>=4.6.0 in /usr/local/lib/python3.11/dist-packages (from sqlalchemy>=2.0.16->Flask-SQLAlchemy) (4.12.2)\n",
            "Requirement already satisfied: simple-websocket>=0.10.0 in /usr/local/lib/python3.11/dist-packages (from python-engineio>=4.11.0->python-socketio>=5.12.0->Flask-SocketIO) (1.1.0)\n",
            "Requirement already satisfied: wsproto in /usr/local/lib/python3.11/dist-packages (from simple-websocket>=0.10.0->python-engineio>=4.11.0->python-socketio>=5.12.0->Flask-SocketIO) (1.2.0)\n",
            "Requirement already satisfied: h11<1,>=0.9.0 in /usr/local/lib/python3.11/dist-packages (from wsproto->simple-websocket>=0.10.0->python-engineio>=4.11.0->python-socketio>=5.12.0->Flask-SocketIO) (0.14.0)\n"
          ]
        }
      ],
      "source": [
        "!pip install Flask Flask-SQLAlchemy Flask-SocketIO\n"
      ]
    },
    {
      "cell_type": "code",
      "source": [
        "from flask import Flask, render_template, request, redirect, jsonify\n",
        "from flask_sqlalchemy import SQLAlchemy\n",
        "from flask_socketio import SocketIO, send\n",
        "import threading\n",
        "import time\n"
      ],
      "metadata": {
        "id": "pHTnwsUi8sws"
      },
      "execution_count": 30,
      "outputs": []
    },
    {
      "cell_type": "code",
      "source": [
        "app = Flask(__name__)\n",
        "app.config['SQLALCHEMY_DATABASE_URI'] = 'sqlite:///medical_store.db'\n",
        "db = SQLAlchemy(app)\n",
        "socketio = SocketIO(app)\n",
        "\n",
        "class Product(db.Model):\n",
        "    id = db.Column(db.Integer, primary_key=True)\n",
        "    name = db.Column(db.String(100), nullable=False)\n",
        "    stock = db.Column(db.Integer, nullable=False)\n",
        "    price = db.Column(db.Float, nullable=False)\n",
        "\n",
        "class Customer(db.Model):\n",
        "    id = db.Column(db.Integer, primary_key=True)\n",
        "    name = db.Column(db.String(100), nullable=False)\n",
        "    email = db.Column(db.String(100), nullable=False)\n",
        "\n",
        "# Use application context to create the tables\n",
        "with app.app_context():\n",
        "    db.create_all()\n"
      ],
      "metadata": {
        "id": "GuY9LEEK9A_L"
      },
      "execution_count": 31,
      "outputs": []
    },
    {
      "cell_type": "code",
      "source": [
        "@app.route('/')\n",
        "def index():\n",
        "    return \"Welcome to the Medical Store Management System\"\n",
        "\n",
        "@app.route('/inventory')\n",
        "def show_inventory():\n",
        "    products = Product.query.all()\n",
        "    return jsonify([{'id': p.id, 'name': p.name, 'stock': p.stock, 'price': p.price} for p in products])\n",
        "\n",
        "@app.route('/add_product', methods=['POST'])\n",
        "def add_product():\n",
        "    data = request.json\n",
        "    new_product = Product(name=data['name'], stock=data['stock'], price=data['price'])\n",
        "    db.session.add(new_product)\n",
        "    db.session.commit()\n",
        "    return \"Product added successfully!\"\n"
      ],
      "metadata": {
        "id": "9P2RKYfj9J8f"
      },
      "execution_count": 32,
      "outputs": []
    },
    {
      "cell_type": "code",
      "source": [
        "@socketio.on('connect')\n",
        "def handle_connect():\n",
        "    print('Client connected')\n",
        "\n",
        "@socketio.on('disconnect')\n",
        "def handle_disconnect():\n",
        "    print('Client disconnected')\n",
        "\n",
        "@app.route('/alert_stock', methods=['POST'])\n",
        "def alert_stock():\n",
        "    data = request.json\n",
        "    socketio.emit('stock_alert', data)\n",
        "    return \"Stock alert sent!\"\n"
      ],
      "metadata": {
        "id": "qZZBXgm59zkl"
      },
      "execution_count": 33,
      "outputs": []
    },
    {
      "cell_type": "code",
      "source": [
        "def run_app():\n",
        "    socketio.run(app, host='0.0.0.0', port=5001, allow_unsafe_werkzeug=True)\n",
        "\n",
        "threading.Thread(target=run_app).start()\n"
      ],
      "metadata": {
        "colab": {
          "base_uri": "https://localhost:8080/"
        },
        "id": "h7D-mYcP92J5",
        "outputId": "59570801-76f7-4b9f-c87b-6bec63994280"
      },
      "execution_count": 35,
      "outputs": [
        {
          "output_type": "stream",
          "name": "stderr",
          "text": [
            "WARNING:werkzeug:Werkzeug appears to be used in a production deployment. Consider switching to a production web server instead.\n"
          ]
        },
        {
          "output_type": "stream",
          "name": "stdout",
          "text": [
            " * Serving Flask app '__main__'\n",
            " * Debug mode: off\n"
          ]
        },
        {
          "output_type": "stream",
          "name": "stderr",
          "text": [
            "INFO:werkzeug:\u001b[31m\u001b[1mWARNING: This is a development server. Do not use it in a production deployment. Use a production WSGI server instead.\u001b[0m\n",
            " * Running on all addresses (0.0.0.0)\n",
            " * Running on http://127.0.0.1:5001\n",
            " * Running on http://172.28.0.12:5001\n",
            "INFO:werkzeug:\u001b[33mPress CTRL+C to quit\u001b[0m\n"
          ]
        }
      ]
    },
    {
      "cell_type": "code",
      "source": [],
      "metadata": {
        "id": "oMNt-2e8_QSg"
      },
      "execution_count": null,
      "outputs": []
    }
  ]
}